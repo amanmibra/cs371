{
 "cells": [
  {
   "cell_type": "markdown",
   "metadata": {
    "tags": [
     "AST"
    ]
   },
   "source": [
    "# COMPSCI 371D Homework 6"
   ]
  },
  {
   "cell_type": "markdown",
   "metadata": {
    "tags": [
     "T"
    ]
   },
   "source": [
    "Write the names of all contributors to this assignment here:\n",
    "\n",
    "+ ...\n",
    "+ ..."
   ]
  },
  {
   "cell_type": "markdown",
   "metadata": {
    "tags": [
     "AST"
    ]
   },
   "source": [
    "## Part 1: Automatic Differentiation"
   ]
  },
  {
   "cell_type": "markdown",
   "metadata": {
    "tags": [
     "AST"
    ]
   },
   "source": [
    "### Automatic Differentiation Basics"
   ]
  },
  {
   "cell_type": "code",
   "execution_count": 1,
   "metadata": {
    "scrolled": false,
    "tags": [
     "AST"
    ]
   },
   "outputs": [],
   "source": [
    "_names = {}\n",
    "\n",
    "def reset_auto_diff(name=None):\n",
    "    global _names\n",
    "    if name is None:\n",
    "        _names = {}\n",
    "    else:\n",
    "        _names.pop(name, None)"
   ]
  },
  {
   "cell_type": "code",
   "execution_count": 2,
   "metadata": {
    "scrolled": false,
    "tags": [
     "AST"
    ]
   },
   "outputs": [],
   "source": [
    "class Node:\n",
    "    def __init__(self, value, gradient=None, name=None, variables=None):\n",
    "        self.value = value\n",
    "        self.gradient = gradient\n",
    "        self.name = name\n",
    "        self.variables = variables"
   ]
  },
  {
   "cell_type": "code",
   "execution_count": 3,
   "metadata": {
    "scrolled": false,
    "tags": [
     "AST"
    ]
   },
   "outputs": [],
   "source": [
    "class Internal(Node):\n",
    "    def __init__(self, value, gradient, variables):\n",
    "        super(Internal, self).__init__(value, gradient=gradient, name=None,\n",
    "                                       variables=variables)\n",
    "\n",
    "    def __str__(self):\n",
    "        grad_string = 'Gradient wrt {}:\\n{}'.format(self.variables, self.gradient)\n",
    "        return '{}\\n{}'.format(self.value, grad_string)"
   ]
  },
  {
   "cell_type": "code",
   "execution_count": 4,
   "metadata": {
    "scrolled": false,
    "tags": [
     "AST"
    ]
   },
   "outputs": [],
   "source": [
    "class Variable(Node):\n",
    "    def __init__(self, value, name):\n",
    "        assert name not in _names, 'Different independent variables must have different name'\n",
    "        assert isinstance(value, int) or isinstance(value, float), 'Variables must be scalars'\n",
    "        value = float(value)\n",
    "        _names[name] = name\n",
    "        gradient = [1.0]\n",
    "        super(Variable, self).__init__(value, gradient=gradient, name=name, variables=[name])\n",
    "\n",
    "    def __str__(self):\n",
    "        return '{}:\\n{}'.format(self.name, self.value)"
   ]
  },
  {
   "cell_type": "code",
   "execution_count": 5,
   "metadata": {
    "scrolled": false,
    "tags": [
     "AST"
    ]
   },
   "outputs": [],
   "source": [
    "def print_variables(*args, **keywords):\n",
    "    try:\n",
    "        print(keywords['title'])\n",
    "    except KeyError:\n",
    "        pass\n",
    "    print(*args, sep='\\n\\n', end='\\n\\n')"
   ]
  },
  {
   "cell_type": "code",
   "execution_count": 6,
   "metadata": {
    "scrolled": false,
    "tags": [
     "AST"
    ]
   },
   "outputs": [],
   "source": [
    "def scale_list(sequence, factor):\n",
    "    return [factor * item for item in sequence]"
   ]
  },
  {
   "cell_type": "markdown",
   "metadata": {
    "tags": [
     "AST"
    ]
   },
   "source": [
    "### A Botched Implementation of `times`"
   ]
  },
  {
   "cell_type": "code",
   "execution_count": 7,
   "metadata": {
    "scrolled": false,
    "tags": [
     "AST"
    ]
   },
   "outputs": [],
   "source": [
    "def bad_times(a, b):\n",
    "    assert isinstance(a, Node) and isinstance(b, Node)\n",
    "    value = a.value * b.value\n",
    "    a_gradient = scale_list(a.gradient, b.value)\n",
    "    b_gradient = scale_list(b.gradient, a.value)\n",
    "    # The following two + are list concatenation operators\n",
    "    gradient = a_gradient + b_gradient\n",
    "    variables = a.variables + b.variables\n",
    "    return Internal(value, gradient, variables)"
   ]
  },
  {
   "cell_type": "code",
   "execution_count": 8,
   "metadata": {
    "scrolled": false,
    "tags": [
     "AST"
    ]
   },
   "outputs": [
    {
     "name": "stdout",
     "output_type": "stream",
     "text": [
      "u:\n",
      "2.0\n",
      "\n",
      "v:\n",
      "4.0\n",
      "\n",
      "product\n",
      "8.0\n",
      "Gradient wrt ['u', 'v']:\n",
      "[4.0, 2.0]\n",
      "\n",
      "square\n",
      "4.0\n",
      "Gradient wrt ['u', 'u']:\n",
      "[2.0, 2.0]\n",
      "\n"
     ]
    }
   ],
   "source": [
    "reset_auto_diff()\n",
    "\n",
    "u = Variable(2.0, 'u')\n",
    "v = Variable(4.0, 'v')\n",
    "print_variables(u, v)\n",
    "\n",
    "p = bad_times(u, v)\n",
    "print_variables(p, title='product')\n",
    "\n",
    "s = bad_times(u, u)\n",
    "print_variables(s, title='square')"
   ]
  },
  {
   "cell_type": "markdown",
   "metadata": {
    "tags": [
     "AST"
    ]
   },
   "source": [
    "### Problem 1.1"
   ]
  },
  {
   "cell_type": "markdown",
   "metadata": {
    "tags": [
     "ST"
    ]
   },
   "source": [
    "### Solution"
   ]
  },
  {
   "cell_type": "code",
   "execution_count": null,
   "metadata": {},
   "outputs": [],
   "source": [
    "def merge(*partials):\n",
    "    gradients = {}\n",
    "    for arg in partials:\n",
    "        g,v = arg\n",
    "        "
   ]
  },
  {
   "cell_type": "markdown",
   "metadata": {
    "tags": [
     "AST"
    ]
   },
   "source": [
    "### Problem 1.2"
   ]
  },
  {
   "cell_type": "markdown",
   "metadata": {
    "tags": [
     "ST"
    ]
   },
   "source": [
    "### Solution"
   ]
  },
  {
   "cell_type": "code",
   "execution_count": 9,
   "metadata": {
    "scrolled": false,
    "tags": [
     "T"
    ]
   },
   "outputs": [],
   "source": [
    "# Your solution in this cell"
   ]
  },
  {
   "cell_type": "code",
   "execution_count": 10,
   "metadata": {
    "scrolled": false,
    "tags": [
     "T"
    ]
   },
   "outputs": [],
   "source": [
    "# reset_auto_diff()\n",
    "\n",
    "# u = Variable(2.0, 'u')\n",
    "# v = Variable(4.0, 'v')\n",
    "# print_variables(u, v)\n",
    "\n",
    "# z = plus(u, v)\n",
    "# print_variables(z, title='sum')\n",
    "\n",
    "# twice = plus(u, u)\n",
    "# print_variables(twice, title='twice')"
   ]
  },
  {
   "cell_type": "markdown",
   "metadata": {
    "tags": [
     "AST"
    ]
   },
   "source": [
    "### Problem 1.3"
   ]
  },
  {
   "cell_type": "markdown",
   "metadata": {
    "tags": [
     "ST"
    ]
   },
   "source": [
    "### Solution"
   ]
  },
  {
   "cell_type": "markdown",
   "metadata": {
    "tags": [
     "AST"
    ]
   },
   "source": [
    "### Problem 1.4"
   ]
  },
  {
   "cell_type": "markdown",
   "metadata": {
    "tags": [
     "ST"
    ]
   },
   "source": [
    "### Solution"
   ]
  },
  {
   "cell_type": "code",
   "execution_count": 11,
   "metadata": {
    "scrolled": false,
    "tags": [
     "ST"
    ]
   },
   "outputs": [],
   "source": [
    "import numpy as np\n",
    "import matplotlib.pyplot as plt\n",
    "%matplotlib inline\n",
    "\n",
    "def plot_gradient(f, trange=(-np.pi, np.pi), samples=31):\n",
    "    t = np.linspace(trange[0], trange[1], samples)\n",
    "    x_values, y_values = np.meshgrid(t, t)\n",
    "    z_values = np.zeros_like(x_values)\n",
    "    g_x = np.zeros((samples, samples))\n",
    "    g_y = np.zeros((samples, samples))\n",
    "    reset_auto_diff(name='pg_x')\n",
    "    reset_auto_diff(name='pg_y')\n",
    "    x = Variable(0.0, 'pg_x')\n",
    "    y = Variable(0.0, 'pg_y')\n",
    "    for i in range(samples):\n",
    "        for j in range(samples):\n",
    "            x.value, y.value = x_values[i, j], y_values[i, j]\n",
    "            z = f(x, y)\n",
    "            z_values[i, j] = z.value\n",
    "            g_x[i, j], g_y[i, j] = derivative(z, 'pg_x'), derivative(z, 'pg_y')\n",
    "\n",
    "    plt.figure(figsize=(8, 8))\n",
    "    plt.contour(t, t, z_values)\n",
    "    plt.quiver(t, t, g_x, g_y)\n",
    "    plt.show()"
   ]
  },
  {
   "cell_type": "markdown",
   "metadata": {
    "tags": [
     "AST"
    ]
   },
   "source": [
    "## Part 2: Loss and Convexity"
   ]
  },
  {
   "cell_type": "markdown",
   "metadata": {
    "tags": [
     "AST"
    ]
   },
   "source": [
    "### Problem 2.1"
   ]
  },
  {
   "cell_type": "markdown",
   "metadata": {
    "tags": [
     "ST"
    ]
   },
   "source": [
    "### Solution"
   ]
  },
  {
   "cell_type": "markdown",
   "metadata": {
    "tags": [
     "AST"
    ]
   },
   "source": [
    "### Problem 2.2 (Exam-Style)"
   ]
  },
  {
   "cell_type": "markdown",
   "metadata": {
    "tags": [
     "ST"
    ]
   },
   "source": [
    "### Solution"
   ]
  },
  {
   "cell_type": "markdown",
   "metadata": {
    "tags": [
     "AST"
    ]
   },
   "source": [
    "## Part 3: Logistic Regression and Regularization"
   ]
  },
  {
   "cell_type": "code",
   "execution_count": 12,
   "metadata": {
    "scrolled": false,
    "tags": [
     "AST"
    ]
   },
   "outputs": [],
   "source": [
    "import autograd.numpy as np\n",
    "from autograd import grad, jacobian"
   ]
  },
  {
   "cell_type": "code",
   "execution_count": 13,
   "metadata": {
    "scrolled": false
   },
   "outputs": [],
   "source": [
    "def logistic(x, v):\n",
    "    alpha = v[0] + v[1:] * x\n",
    "    return 1.0 / (1.0 + np.exp(-alpha))"
   ]
  },
  {
   "cell_type": "code",
   "execution_count": 14,
   "metadata": {
    "scrolled": false,
    "tags": [
     "AST"
    ]
   },
   "outputs": [],
   "source": [
    "import pickle\n",
    "with open('data.pickle', 'rb') as file:\n",
    "    T = pickle.load(file)"
   ]
  },
  {
   "cell_type": "markdown",
   "metadata": {
    "tags": [
     "AST"
    ]
   },
   "source": [
    "### Problem 3.1"
   ]
  },
  {
   "cell_type": "markdown",
   "metadata": {
    "tags": [
     "ST"
    ]
   },
   "source": [
    "### Solution"
   ]
  },
  {
   "cell_type": "markdown",
   "metadata": {
    "tags": [
     "AST"
    ]
   },
   "source": [
    "### Problem 3.2"
   ]
  },
  {
   "cell_type": "markdown",
   "metadata": {
    "tags": [
     "ST"
    ]
   },
   "source": [
    "### Solution"
   ]
  },
  {
   "cell_type": "markdown",
   "metadata": {
    "tags": [
     "AST"
    ]
   },
   "source": [
    "### Problem 3.3"
   ]
  },
  {
   "cell_type": "markdown",
   "metadata": {
    "tags": [
     "ST"
    ]
   },
   "source": [
    "### Solution"
   ]
  },
  {
   "cell_type": "markdown",
   "metadata": {
    "tags": [
     "AST"
    ]
   },
   "source": [
    "### Problem 3.4"
   ]
  },
  {
   "cell_type": "markdown",
   "metadata": {
    "tags": [
     "ST"
    ]
   },
   "source": [
    "### Solution"
   ]
  },
  {
   "cell_type": "markdown",
   "metadata": {
    "tags": [
     "AST"
    ]
   },
   "source": [
    "### Problem 3.5"
   ]
  },
  {
   "cell_type": "markdown",
   "metadata": {
    "tags": [
     "ST"
    ]
   },
   "source": [
    "### Solution"
   ]
  },
  {
   "cell_type": "markdown",
   "metadata": {
    "tags": [
     "AST"
    ]
   },
   "source": [
    "### Problem 3.6 (Exam-Style)"
   ]
  },
  {
   "cell_type": "markdown",
   "metadata": {
    "tags": [
     "ST"
    ]
   },
   "source": [
    "### Solution"
   ]
  },
  {
   "cell_type": "markdown",
   "metadata": {
    "tags": [
     "AST"
    ]
   },
   "source": [
    "### Problem 3.7"
   ]
  },
  {
   "cell_type": "markdown",
   "metadata": {
    "tags": [
     "ST"
    ]
   },
   "source": [
    "### Solution"
   ]
  }
 ],
 "metadata": {
  "kernelspec": {
   "display_name": "Python 3",
   "language": "python",
   "name": "python3"
  },
  "language_info": {
   "codemirror_mode": {
    "name": "ipython",
    "version": 3
   },
   "file_extension": ".py",
   "mimetype": "text/x-python",
   "name": "python",
   "nbconvert_exporter": "python",
   "pygments_lexer": "ipython3",
   "version": "3.7.1"
  }
 },
 "nbformat": 4,
 "nbformat_minor": 2
}
