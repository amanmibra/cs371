{
 "cells": [
  {
   "cell_type": "markdown",
   "metadata": {
    "tags": [
     "AST"
    ]
   },
   "source": [
    "# COMPSCI 371D Homework 4"
   ]
  },
  {
   "cell_type": "markdown",
   "metadata": {
    "tags": [
     "T"
    ]
   },
   "source": [
    "Write the names of all contributors to this assignment here:\n",
    "\n",
    "+ ...\n",
    "+ ..."
   ]
  },
  {
   "cell_type": "markdown",
   "metadata": {
    "tags": [
     "AST"
    ]
   },
   "source": [
    "## Part 1: Line Search"
   ]
  },
  {
   "cell_type": "markdown",
   "metadata": {
    "tags": [
     "AST"
    ]
   },
   "source": [
    "### Problem 1.1"
   ]
  },
  {
   "cell_type": "code",
   "execution_count": 7,
   "metadata": {},
   "outputs": [
    {
     "data": {
      "image/png": "[encoded data removed]",
      "text/plain": [
       "<Figure size 432x288 with 1 Axes>"
      ]
     },
     "metadata": {
      "needs_background": "light"
     },
     "output_type": "display_data"
    }
   ],
   "source": [
    "import math\n",
    "import matplotlib.pyplot as plt\n",
    "import numpy as np\n",
    "\n",
    "def f(alpha):\n",
    "    return sin( (alpha*math.pi + 1)/ 2 )\n",
    "\n",
    "[a, b, c] = [0, 2, 5]\n",
    "\n",
    "x = np.arange(-2,6.1,0.1)   # start,stop,step\n",
    "y = np.sin((np.pi * x + 1)/2)\n",
    "plt.plot(x,y)\n",
    "plt.plot([a,b,c], [f(a), f(b), f(c)], 'ro')\n",
    "plt.show()\n"
   ]
  },
  {
   "cell_type": "markdown",
   "metadata": {
    "tags": [
     "AST"
    ]
   },
   "source": [
    "### Problem 1.2"
   ]
  },
  {
   "cell_type": "markdown",
   "metadata": {
    "tags": [
     "AST"
    ]
   },
   "source": [
    "### Problem 1.3"
   ]
  },
  {
   "cell_type": "markdown",
   "metadata": {
    "tags": [
     "AST"
    ]
   },
   "source": [
    "### Problem 1.4 (Exam-Style)"
   ]
  },
  {
   "cell_type": "markdown",
   "metadata": {
    "tags": [
     "AST"
    ]
   },
   "source": [
    "## Part 2: Coordinate Descent"
   ]
  },
  {
   "cell_type": "code",
   "execution_count": 1,
   "metadata": {
    "tags": [
     "AST"
    ]
   },
   "outputs": [],
   "source": [
    "import numpy as np\n",
    "\n",
    "def rosenbrock(z):\n",
    "    return np.array(100 * (z[1] - z[0] ** 2) ** 2 + (1 - z[0]) ** 2)"
   ]
  },
  {
   "cell_type": "code",
   "execution_count": 2,
   "metadata": {
    "tags": [
     "AST"
    ]
   },
   "outputs": [],
   "source": [
    "from scipy import optimize\n",
    "\n",
    "def line_search(function, a, epsilon_delta_z):\n",
    "    outcome = optimize.minimize_scalar(function, (a, a + 1.e-4), tol=epsilon_delta_z)\n",
    "    if outcome['success']:\n",
    "        return outcome['x'], outcome['fun']\n",
    "    else:\n",
    "        print('Line search failed:', outcome['message'])\n",
    "        return None, None"
   ]
  },
  {
   "cell_type": "code",
   "execution_count": 3,
   "metadata": {
    "tags": [
     "AST"
    ]
   },
   "outputs": [],
   "source": [
    "def show_history(hist, z_opt):\n",
    "    h, z, n = [], [], 101\n",
    "    for i in range(2):\n",
    "        hi = [item[i] for item in hist]\n",
    "        h.append(hi)\n",
    "        z.append(np.linspace(np.floor(np.min(hi) - 1.0), np.ceil(np.max(hi) + 1.0), n))\n",
    "    Y = np.array([[rosenbrock(np.array([a, b])) for a in z[0]] for b in z[1]])\n",
    "    levels = np.logspace(0.01, 5, num=10)\n",
    "    plt.contour(z[0], z[1], Y, levels, colors='grey', linewidths=1)\n",
    "    plt.plot(h[0], h[1])\n",
    "    plt.plot(h[0][0], h[1][0], 'bo')\n",
    "    plt.plot(z_opt[0], z_opt[1], 'ro')\n",
    "    plt.title('{} line searches'.format(len(hist)-1))\n",
    "    plt.show()"
   ]
  },
  {
   "cell_type": "code",
   "execution_count": 4,
   "metadata": {
    "tags": [
     "AST"
    ]
   },
   "outputs": [],
   "source": [
    "z_0, z_star = np.array([-2.0, -2.0]), np.array([1.0, 1.0])"
   ]
  },
  {
   "cell_type": "markdown",
   "metadata": {
    "tags": [
     "AST"
    ]
   },
   "source": [
    "### Problem 2.1"
   ]
  },
  {
   "cell_type": "markdown",
   "metadata": {
    "tags": [
     "AST"
    ]
   },
   "source": [
    "### Problem 2.2"
   ]
  },
  {
   "cell_type": "markdown",
   "metadata": {
    "tags": [
     "AST"
    ]
   },
   "source": [
    "### Problem 2.3"
   ]
  },
  {
   "cell_type": "markdown",
   "metadata": {
    "tags": [
     "AST"
    ]
   },
   "source": [
    "### Problem 2.4 (Exam-Style)"
   ]
  }
 ],
 "metadata": {
  "kernelspec": {
   "display_name": "Python 3",
   "language": "python",
   "name": "python3"
  },
  "language_info": {
   "codemirror_mode": {
    "name": "ipython",
    "version": 3
   },
   "file_extension": ".py",
   "mimetype": "text/x-python",
   "name": "python",
   "nbconvert_exporter": "python",
   "pygments_lexer": "ipython3",
   "version": "3.7.1"
  }
 },
 "nbformat": 4,
 "nbformat_minor": 2
}
