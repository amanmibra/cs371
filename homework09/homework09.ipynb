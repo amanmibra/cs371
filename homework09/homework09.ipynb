{
 "cells": [
  {
   "cell_type": "markdown",
   "metadata": {
    "tags": [
     "AST"
    ]
   },
   "source": [
    "# COMPSCI 371D Homework 9"
   ]
  },
  {
   "cell_type": "code",
   "execution_count": 3,
   "metadata": {},
   "outputs": [],
   "source": [
    "import numpy as np\n",
    "from matplotlib import cm\n",
    "import matplotlib.colors as colors\n",
    "import matplotlib.pyplot as plt\n",
    "%matplotlib inline"
   ]
  },
  {
   "cell_type": "code",
   "execution_count": null,
   "metadata": {},
   "outputs": [],
   "source": []
  },
  {
   "cell_type": "code",
   "execution_count": null,
   "metadata": {},
   "outputs": [],
   "source": []
  },
  {
   "cell_type": "code",
   "execution_count": null,
   "metadata": {},
   "outputs": [],
   "source": []
  },
  {
   "cell_type": "markdown",
   "metadata": {
    "tags": [
     "AST"
    ]
   },
   "source": [
    "## Part 1: Measures of Impurity"
   ]
  },
  {
   "cell_type": "markdown",
   "metadata": {
    "tags": [
     "AST"
    ]
   },
   "source": [
    "### Problem 1.1"
   ]
  },
  {
   "cell_type": "code",
   "execution_count": 4,
   "metadata": {},
   "outputs": [
    {
     "name": "stdout",
     "output_type": "stream",
     "text": [
      "-13\n"
     ]
    }
   ],
   "source": [
    "def error_rate(p):\n",
    "    return 1 - np.amax(p)\n",
    "\n",
    "def gini_index(p):\n",
    "    out = 1\n",
    "    for el in p:\n",
    "        out -= el**2\n",
    "    return out\n",
    "\n",
    "print(gini_index([1,2,3]))"
   ]
  },
  {
   "cell_type": "markdown",
   "metadata": {
    "tags": [
     "AST"
    ]
   },
   "source": [
    "### Problem 1.2 (Exam-Style)"
   ]
  },
  {
   "cell_type": "markdown",
   "metadata": {
    "tags": [
     "AST"
    ]
   },
   "source": [
    "### Problem 1.3 (Partially Exam-Style)"
   ]
  },
  {
   "cell_type": "markdown",
   "metadata": {
    "tags": [
     "AST"
    ]
   },
   "source": [
    "## Part 2: Thinking Recursively"
   ]
  },
  {
   "cell_type": "code",
   "execution_count": 5,
   "metadata": {
    "tags": [
     "AST"
    ]
   },
   "outputs": [
    {
     "name": "stdout",
     "output_type": "stream",
     "text": [
      "small_set has 300 sample data points of dimension 2.\n",
      "The size of the label alphabet |Y| is 3\n"
     ]
    }
   ],
   "source": [
    "import pickle\n",
    "\n",
    "with open('small_set.pickle', 'rb') as file:\n",
    "    small_set = pickle.load(file)\n",
    "    \n",
    "message = 'small_set has {} sample data points of dimension {}.'\n",
    "print(message.format(*small_set['x'].shape))\n",
    "print('The size of the label alphabet |Y| is {}'.format(len(small_set['Y'])))"
   ]
  },
  {
   "cell_type": "code",
   "execution_count": 6,
   "metadata": {
    "tags": [
     "AST"
    ]
   },
   "outputs": [
    {
     "data": {
      "image/png": "[encoded data removed]",
      "text/plain": [
       "<Figure size 576x576 with 1 Axes>"
      ]
     },
     "metadata": {
      "needs_background": "light"
     },
     "output_type": "display_data"
    }
   ],
   "source": [
    "def draw_samples(samples):\n",
    "    assert samples['x'].shape[1] == 2, 'Can only draw 2D samples'\n",
    "    nc = len(np.unique(samples['y']))\n",
    "    assert nc <= 10, 'Can only have up to ten classes'\n",
    "    colormap = colors.ListedColormap(cm.tab10(range(nc)))\n",
    "    plt.scatter(samples['x'][:, 0], samples['x'][:, 1], s=5, c=samples['y'], cmap=colormap)\n",
    "\n",
    "plt.figure(figsize=(8, 8))\n",
    "draw_samples(small_set)\n",
    "plt.axis('off')\n",
    "plt.show()"
   ]
  },
  {
   "cell_type": "code",
   "execution_count": 7,
   "metadata": {
    "tags": [
     "AST"
    ]
   },
   "outputs": [],
   "source": [
    "class Node:\n",
    "    def __init__(self, j=None, t=None, p=None, left=None, right=None):\n",
    "        self.j = j\n",
    "        self.t = t\n",
    "        self.p = p\n",
    "        self.left = left\n",
    "        self.right = right\n",
    "\n",
    "    def __str__(self):\n",
    "        for key, value in self.__dict__.items():\n",
    "            if value is not None:\n",
    "                return '{}: {}'.format(key, value)"
   ]
  },
  {
   "cell_type": "code",
   "execution_count": 8,
   "metadata": {
    "tags": [
     "AST"
    ]
   },
   "outputs": [],
   "source": [
    "with open('small_tree.pickle', 'rb') as file:\n",
    "    small_tree = pickle.load(file)"
   ]
  },
  {
   "cell_type": "markdown",
   "metadata": {
    "tags": [
     "AST"
    ]
   },
   "source": [
    "### Problem 2.1"
   ]
  },
  {
   "cell_type": "markdown",
   "metadata": {
    "tags": [
     "AST"
    ]
   },
   "source": [
    "### Problem 2.2"
   ]
  },
  {
   "cell_type": "markdown",
   "metadata": {
    "tags": [
     "AST"
    ]
   },
   "source": [
    "### Problem 2.3"
   ]
  },
  {
   "cell_type": "markdown",
   "metadata": {},
   "source": [
    "## Part 3: Decision Trees"
   ]
  },
  {
   "cell_type": "code",
   "execution_count": 9,
   "metadata": {
    "tags": [
     "AST"
    ]
   },
   "outputs": [],
   "source": [
    "with open('data.pickle', 'rb') as file:\n",
    "    data = pickle.load(file)"
   ]
  },
  {
   "cell_type": "markdown",
   "metadata": {
    "tags": [
     "AST"
    ]
   },
   "source": [
    "### Problem 3.1"
   ]
  },
  {
   "cell_type": "code",
   "execution_count": 14,
   "metadata": {},
   "outputs": [
    {
     "name": "stdout",
     "output_type": "stream",
     "text": [
      "[0.49466667 0.50533333]\n",
      "0.49994311111111117\n"
     ]
    }
   ],
   "source": [
    "def distribution(samples):\n",
    "    class_list = []\n",
    "    for i in range(len(samples['y'])):\n",
    "        class_list.append(samples['y'][i])\n",
    "    K = len(set(class_list))\n",
    "    p = np.zeros(K)\n",
    "    n = 0\n",
    "    for i in range(0, len(samples['x'])):\n",
    "        p[samples['y'][i]] += 1\n",
    "        n += 1\n",
    "    return p/n\n",
    "\n",
    "def impurity(samples):\n",
    "    return gini_index(distribution(samples))\n",
    "\n",
    "def ok_to_split(samples, depth, min_size=1, max_depth=30):\n",
    "    return impurity(samples)>0 and len(samples['x']) > min_size and depth < max_depth\n",
    "\n",
    "print (impurity(data['train']))\n",
    "\n",
    "def find_split(samples):\n",
    "    \n",
    "    i_s = impurity(samples)\n",
    "    delta_opt = -1\n",
    "    d = samples['x'][1].shape[0]\n",
    "    \n",
    "    for i in range(0,d):\n",
    "        newlist= []\n",
    "        for j in range(samples['x'].shape[0]):\n",
    "            newlist.append(samples['x'][j][i])\n",
    "        finallist = []\n",
    "        for k in range(0,len(newlist)-1):\n",
    "            finallist.append((newlist[k]+newlist[k+1])/2.0)\n",
    "        finallist = sorted(finallist)\n",
    "        for item in finallist:  #This is the list of thresholds\n",
    "            L = {}\n",
    "            R = {}\n",
    "            L[\"x\"] = []\n",
    "            L[\"y\"] = []\n",
    "            R[\"x\"] = []\n",
    "            R[\"y\"] = []\n",
    "            for h in range(0,samples['x'].shape[0]):\n",
    "                if samples['x'][h][i] <= item:\n",
    "                    L[\"x\"].append((samples['x'][h]).tolist())\n",
    "                    L[\"y\"].append((samples['y'][h]).tolist())\n",
    "                else:\n",
    "                    R[\"x\"].append((samples['x'][h]).tolist())\n",
    "                    R[\"y\"].append((samples['y'][h]).tolist())\n",
    "            \n",
    "            delta = i_s - (len(L['x']))/float(len(samples['x']))*impurity(L) - (len(R['x']))/float(len(samples['x']))*impurity(R)\n",
    "            if delta > delta_opt:\n",
    "                [delta_opt, L_opt, R_opt, d_opt, t_opt] = [delta, L, R, i, item]\n",
    "                                                                                         \n",
    "    return [delta_opt, L_opt, R_opt, d_opt, t_opt]\n",
    "                    \n",
    "    \n",
    "# print (find_split(data['train']))\n",
    "\n",
    "def split(x, tau):\n",
    "    if tau.j <= tau.t:\n",
    "        return tau.left\n",
    "    else:\n",
    "        return tau.right\n",
    "    \n",
    "def predict(x, tau, summary=np.argmax):\n",
    "    if is_leaf(tau):\n",
    "        return summary(tau.p) \n",
    "    else:\n",
    "        return predict(x, split(x, tau), summary)\n",
    "    \n",
    "def train_tree(samples, depth=0):\n",
    "    if ok_to_split(samples, depth, min_size=1, max_depth=30):\n",
    "        [delta, L, R, tau.j, tau.t] = find_split(samples)\n",
    "        tau.L = trainTree(L, depth + 1)\n",
    "        tau.R = trainTree(R, depth + 1)\n",
    "    else:\n",
    "        tau.p = distribution(samples)\n",
    "    \n",
    "    return tau\n"
   ]
  },
  {
   "cell_type": "markdown",
   "metadata": {
    "tags": [
     "AST"
    ]
   },
   "source": [
    "### Problem 3.2 (Exam-Style)"
   ]
  },
  {
   "cell_type": "code",
   "execution_count": null,
   "metadata": {},
   "outputs": [],
   "source": []
  }
 ],
 "metadata": {
  "kernelspec": {
   "display_name": "Python 3",
   "language": "python",
   "name": "python3"
  },
  "language_info": {
   "codemirror_mode": {
    "name": "ipython",
    "version": 3
   },
   "file_extension": ".py",
   "mimetype": "text/x-python",
   "name": "python",
   "nbconvert_exporter": "python",
   "pygments_lexer": "ipython3",
   "version": "3.7.3"
  }
 },
 "nbformat": 4,
 "nbformat_minor": 2
}
