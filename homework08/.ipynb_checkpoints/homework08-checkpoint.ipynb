{
 "cells": [
  {
   "cell_type": "markdown",
   "metadata": {
    "tags": [
     "AST"
    ]
   },
   "source": [
    "# COMPSCI 371D Homework 8"
   ]
  },
  {
   "cell_type": "markdown",
   "metadata": {
    "tags": [
     "T"
    ]
   },
   "source": [
    "Write the names of all contributors to this assignment here:\n",
    "\n",
    "+ ...\n",
    "+ ..."
   ]
  },
  {
   "cell_type": "markdown",
   "metadata": {
    "tags": [
     "AST"
    ]
   },
   "source": [
    "## Part 1: "
   ]
  },
  {
   "cell_type": "code",
   "execution_count": 1,
   "metadata": {
    "scrolled": false,
    "tags": [
     "AST"
    ]
   },
   "outputs": [],
   "source": [
    "import numpy as np\n",
    "import matplotlib.pyplot as plt\n",
    "import pickle\n",
    "\n",
    "with open('trivial.pickle', 'rb') as file:\n",
    "    trivial = pickle.load(file)"
   ]
  },
  {
   "cell_type": "markdown",
   "metadata": {
    "tags": [
     "AST"
    ]
   },
   "source": [
    "### Problem 1.1"
   ]
  },
  {
   "cell_type": "code",
   "execution_count": 4,
   "metadata": {
    "scrolled": false,
    "tags": [
     "AST"
    ]
   },
   "outputs": [],
   "source": [
    "from sklearn.model_selection import GridSearchCV\n",
    "from sklearn.svm import SVC\n",
    "\n",
    "def evaluate(h, train, test, description):\n",
    "    def accuracy(predictor, s):\n",
    "        sx, sy = s['x'], s['y']\n",
    "        return predictor.score(sx, sy) * 100\n",
    "\n",
    "    performance = {\n",
    "        'description': description,\n",
    "        'training accuracy': accuracy(h, train),\n",
    "        'test accuracy': accuracy(h, test)\n",
    "    }\n",
    "    f = '{:s}: training accuracy is {:.2f} percent,' +\\\n",
    "        '\\ntest accuracy is {:.2f} percent'\n",
    "    print(f.format(description, performance['training accuracy'],\n",
    "                   performance['test accuracy']))\n",
    "    return performance"
   ]
  },
  {
   "cell_type": "code",
   "execution_count": 106,
   "metadata": {
    "scrolled": false,
    "tags": [
     "AST"
    ]
   },
   "outputs": [
    {
     "data": {
      "image/png": "[encoded data removed]",
      "text/plain": [
       "<Figure size 432x288 with 1 Axes>"
      ]
     },
     "metadata": {
      "needs_background": "light"
     },
     "output_type": "display_data"
    },
    {
     "name": "stdout",
     "output_type": "stream",
     "text": [
      "linear SVM with C = 1000.0: training accuracy is 100.00 percent,\n",
      "test accuracy is 100.00 percent\n"
     ]
    }
   ],
   "source": [
    "def experiment(data_set, classifier_name, classifier, hyper_parameters, folds=15, display=False):\n",
    "    train, test = data_set['train'], data_set['test']\n",
    "    c = GridSearchCV(classifier, hyper_parameters, scoring='accuracy', cv=folds, iid=False)\n",
    "    h = c.fit(train['x'], train['y'])\n",
    "    parm_string = ', '.join(['{} = {}'.format(key, h.best_params_[key])\n",
    "                             for key in hyper_parameters.keys()])\n",
    "    description = '{} with {}'.format(classifier_name, parm_string)\n",
    "    if display:\n",
    "        show_data(h.best_estimator_, train, description)\n",
    "    evaluate(h.best_estimator_, train, test, description)\n",
    "\n",
    "n_folds, display = 15, False\n",
    "experiment(trivial, 'linear SVM', SVC(kernel='linear', gamma='auto'),\n",
    "               hyper_parameters={'C': [1000.]}, folds=n_folds, display=True)"
   ]
  },
  {
   "cell_type": "code",
   "execution_count": 105,
   "metadata": {},
   "outputs": [],
   "source": [
    "def show_data(h, data_set, description):\n",
    "    # we create 40 separable points\n",
    "    x = data_set[\"x\"]\n",
    "    y = data_set[\"y\"]\n",
    "\n",
    "    # fit the model, don't regularize for illustration purposes\n",
    "    clf = h\n",
    "    \n",
    "    colors = []\n",
    "    for el in y:\n",
    "        if el == -1:\n",
    "            colors.append('red')\n",
    "        else:\n",
    "            colors.append('blue')\n",
    "    \n",
    "    plt.scatter(x[:, 0], x[:, 1], edgecolors=colors, facecolors='none', s=25, cmap=plt.cm.Paired)\n",
    "    \n",
    "    # plot the decision function\n",
    "    ax = plt.gca()\n",
    "    xlim = ax.get_xlim()\n",
    "    ylim = ax.get_ylim()\n",
    "\n",
    "    # create grid to evaluate model\n",
    "    xx = np.linspace(xlim[0], xlim[1], 30)\n",
    "    yy = np.linspace(ylim[0], ylim[1], 30)\n",
    "    YY, XX = np.meshgrid(yy, xx)\n",
    "    xy = np.vstack([XX.ravel(), YY.ravel()]).T\n",
    "    Z = clf.decision_function(xy).reshape(XX.shape)\n",
    "\n",
    "    # plot decision boundary and margins\n",
    "    ax.contour(XX, YY, Z, colors='k', levels=[-1, 0, 1], alpha=0.5,\n",
    "               linestyles=['--', '-', '--'])\n",
    "    \n",
    "    if hasattr(h, 'support_'):\n",
    "        colors = []\n",
    "        for el in clf.support_vectors_:\n",
    "            val = clf.predict([ [el[0], el[1]] ])[0]\n",
    "            if val == -1:\n",
    "                colors.append('red')\n",
    "            else:\n",
    "                colors.append('blue')\n",
    "        print('Number of support vectors: ', len(clf.support_vectors_))\n",
    "        # plot support vectors\n",
    "        ax.scatter(clf.support_vectors_[:, 0], clf.support_vectors_[:, 1], s=25,\n",
    "                   linewidth=1, c=colors)\n",
    "\n",
    "        # color background\n",
    "        X, Y = np.meshgrid(xx, yy)\n",
    "        Z = []\n",
    "        for i in range(len(X)):\n",
    "            temp = []\n",
    "            for j in range(len(X[0])):\n",
    "                x_val = X[i][j]\n",
    "                y_val = Y[i][j]\n",
    "                predict = clf.predict([ [x_val, y_val] ])[0]\n",
    "                temp.append(predict)\n",
    "            Z.append(temp)\n",
    "    \n",
    "    \n",
    "    plt.contourf(X, Y, Z,alpha = 0.3, colors = ['red','blue'])\n",
    "    plt.title(description)\n",
    "    \n",
    "    plt.show()"
   ]
  },
  {
   "cell_type": "markdown",
   "metadata": {
    "tags": [
     "AST"
    ]
   },
   "source": [
    "### Problem 1.2 (Exam-Style)"
   ]
  },
  {
   "cell_type": "markdown",
   "metadata": {
    "tags": [
     "AST"
    ]
   },
   "source": [
    "## Part 2: "
   ]
  },
  {
   "cell_type": "code",
   "execution_count": 4,
   "metadata": {
    "scrolled": false,
    "tags": [
     "AST"
    ]
   },
   "outputs": [],
   "source": [
    "import matplotlib.pyplot as plt\n",
    "%matplotlib inline\n",
    "\n",
    "with open('data.pickle', 'rb') as file:\n",
    "    data = pickle.load(file)"
   ]
  },
  {
   "cell_type": "markdown",
   "metadata": {
    "tags": [
     "AST"
    ]
   },
   "source": [
    "### Problem 2.1"
   ]
  },
  {
   "cell_type": "code",
   "execution_count": 5,
   "metadata": {
    "scrolled": false,
    "tags": [
     "AST"
    ]
   },
   "outputs": [],
   "source": [
    "c_values = [0.0001, 0.001, 0.01, 0.1, 1., 10., 100.]"
   ]
  },
  {
   "cell_type": "code",
   "execution_count": 6,
   "metadata": {
    "scrolled": false,
    "tags": [
     "AST"
    ]
   },
   "outputs": [],
   "source": [
    "n_folds, display = 15, True"
   ]
  },
  {
   "cell_type": "markdown",
   "metadata": {
    "tags": [
     "AST"
    ]
   },
   "source": [
    "### Problem 2.2"
   ]
  },
  {
   "cell_type": "markdown",
   "metadata": {
    "tags": [
     "AST"
    ]
   },
   "source": [
    "### Problem 2.3 (Exam-Style)"
   ]
  },
  {
   "cell_type": "markdown",
   "metadata": {
    "tags": [
     "AST"
    ]
   },
   "source": [
    "### Problem 2.4"
   ]
  },
  {
   "cell_type": "markdown",
   "metadata": {
    "tags": [
     "AST"
    ]
   },
   "source": [
    "### Problem 2.5"
   ]
  },
  {
   "cell_type": "markdown",
   "metadata": {
    "tags": [
     "AST"
    ]
   },
   "source": [
    "### Problem 2.6"
   ]
  },
  {
   "cell_type": "markdown",
   "metadata": {
    "tags": [
     "AST"
    ]
   },
   "source": [
    "### Problem 2.7 (Exam-Style)"
   ]
  },
  {
   "cell_type": "markdown",
   "metadata": {
    "tags": [
     "AST"
    ]
   },
   "source": [
    "### Problem 2.8 (Partially Exam-Style)"
   ]
  }
 ],
 "metadata": {
  "kernelspec": {
   "display_name": "Python 3",
   "language": "python",
   "name": "python3"
  },
  "language_info": {
   "codemirror_mode": {
    "name": "ipython",
    "version": 3
   },
   "file_extension": ".py",
   "mimetype": "text/x-python",
   "name": "python",
   "nbconvert_exporter": "python",
   "pygments_lexer": "ipython3",
   "version": "3.7.3"
  }
 },
 "nbformat": 4,
 "nbformat_minor": 2
}
